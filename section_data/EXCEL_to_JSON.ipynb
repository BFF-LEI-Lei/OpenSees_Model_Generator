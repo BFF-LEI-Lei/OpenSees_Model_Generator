{
 "cells": [
  {
   "cell_type": "markdown",
   "id": "03e1fc26",
   "metadata": {},
   "source": [
    "# Excel to JSON\n",
    "The following code converts the AISC shapes databse excel file to JSON.\n",
    "\n",
    "The original file contains two sections per row. Manual processing must be done before the execution of this code, to create a modified file that contains only one section per row.\n",
    "\n",
    "To decrease the lookup time for the subsequent analysis, we only extract data for specific section types."
   ]
  },
  {
   "cell_type": "code",
   "execution_count": 26,
   "id": "254bc9ca",
   "metadata": {},
   "outputs": [],
   "source": [
    "import pandas as pd\n",
    "import json"
   ]
  },
  {
   "cell_type": "code",
   "execution_count": 18,
   "id": "a0c83736",
   "metadata": {},
   "outputs": [],
   "source": [
    "contents = pd.read_excel(\"aisc-shapes-database-v15.0_modified.xlsx\", sheet_name=\"Database v15.0\")"
   ]
  },
  {
   "cell_type": "code",
   "execution_count": 27,
   "id": "403f5deb",
   "metadata": {
    "scrolled": false
   },
   "outputs": [],
   "source": [
    "# instantiate an empty list to store the dictionaries\n",
    "list_of_dicts = []\n",
    "for i in range(len(contents)):  # for each row\n",
    "\n",
    "    # turn row into a dictionary\n",
    "    dct = dict(contents.loc[i])\n",
    "    \n",
    "    # we only want data for specific section types\n",
    "    if dct[\"Type\"] not in [\"W\"]:\n",
    "        continue\n",
    "\n",
    "    # filter out key-value pairs\n",
    "    # where value = '-'\n",
    "    # and redundant keys\n",
    "    new_dct = dict()\n",
    "    for (key, value) in dct.items():\n",
    "        if (value != \"–\" and \n",
    "            key not in [\"twdet/2\", \"bf/2tf\", \"h/tw\"]):\n",
    "            new_dct[key] = value\n",
    "        # add it to the list\n",
    "        list_of_dicts.append(new_dct)    "
   ]
  },
  {
   "cell_type": "code",
   "execution_count": 29,
   "id": "f451638f",
   "metadata": {},
   "outputs": [],
   "source": [
    "# save to a JSON file\n",
    "\n",
    "with open(\"sections.json\", \"w\") as f:\n",
    "    f.write(json.dumps(list_of_dicts))"
   ]
  }
 ],
 "metadata": {
  "kernelspec": {
   "display_name": "Python 3",
   "language": "python",
   "name": "python3"
  },
  "language_info": {
   "codemirror_mode": {
    "name": "ipython",
    "version": 3
   },
   "file_extension": ".py",
   "mimetype": "text/x-python",
   "name": "python",
   "nbconvert_exporter": "python",
   "pygments_lexer": "ipython3",
   "version": "3.7.10"
  }
 },
 "nbformat": 4,
 "nbformat_minor": 5
}
